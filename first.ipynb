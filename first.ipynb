{
 "cells": [
  {
   "cell_type": "code",
   "execution_count": 6,
   "id": "99a88fe7-c67d-4f01-bb4c-ab0471ef5ea9",
   "metadata": {},
   "outputs": [],
   "source": [
    "import numpy as np\n",
    "import pandas as pd\n",
    "import matplotlib.pyplot as plt\n",
    "import seaborn as sns\n",
    "sns.set()"
   ]
  },
  {
   "cell_type": "code",
   "execution_count": 126,
   "id": "68de93d5-abdc-4f5e-af2e-396a5e4e49f5",
   "metadata": {},
   "outputs": [
    {
     "data": {
      "text/plain": [
       "array([[0, 0],\n",
       "       [0, 1],\n",
       "       [1, 1],\n",
       "       [1, 0]])"
      ]
     },
     "execution_count": 126,
     "metadata": {},
     "output_type": "execute_result"
    }
   ],
   "source": [
    "# input\n",
    "input_values = np.array([[0,0],[0,1],[1,1],[1,0]])\n",
    "input_values"
   ]
  },
  {
   "cell_type": "code",
   "execution_count": 127,
   "id": "38cb5622-028b-4ce1-a6d6-9b7401acda05",
   "metadata": {},
   "outputs": [],
   "source": [
    "#output\n",
    "output = np.array([0,1,1,0])\n",
    "output = output.reshape(4,1)"
   ]
  },
  {
   "cell_type": "code",
   "execution_count": 128,
   "id": "d88d99f2-65c3-4bb7-a115-08e72532cafe",
   "metadata": {},
   "outputs": [],
   "source": [
    "#weights\n",
    "weights = np.array([[0.1],[0.2]])"
   ]
  },
  {
   "cell_type": "code",
   "execution_count": 129,
   "id": "c9f953aa-81b7-46a5-b70e-d0f5ea8c6802",
   "metadata": {},
   "outputs": [],
   "source": [
    "#bias\n",
    "bias = 0.3"
   ]
  },
  {
   "cell_type": "code",
   "execution_count": null,
   "id": "33191430-915e-45bd-a246-7fc233ba2812",
   "metadata": {},
   "outputs": [],
   "source": [
    "#activation func 2 (ativação pela tangente hiperbolica)\n",
    "def tan_H(x):\n",
    "    return np.tanh(x)\n",
    "\n",
    "#sech\n",
    "def sech(x):\n",
    "    return 1/(np.cosh(x))\n",
    "\n",
    "#derivative of tanh\n",
    "def der_tanh(x):\n",
    "    return 1 - tan_H(x)**2"
   ]
  },
  {
   "cell_type": "code",
   "execution_count": 150,
   "id": "b163ee1e-d90d-4978-acbd-41718c3291a0",
   "metadata": {},
   "outputs": [],
   "source": [
    "#activation func (ativação pela sigmoide)\n",
    "def sigmoid_func(x):\n",
    "    return 1/(1+np.exp(-x))\n",
    "\n",
    "#derivative of sigmoid\n",
    "def der(x):\n",
    "    return sigmoid_func(x) * (1-sigmoid_func(x))"
   ]
  },
  {
   "cell_type": "code",
   "execution_count": 163,
   "id": "0db55e55-7bdc-4bfc-9a06-64fc3c1d040b",
   "metadata": {},
   "outputs": [],
   "source": [
    "#criando atributos da rede\n",
    "\n",
    "# input\n",
    "input_values = np.array([[0,0],[0,1],[1,1],[1,0]])\n",
    "\n",
    "#output\n",
    "output = np.array([0,1,1,0]).reshape(4,1)\n",
    "\n",
    "#weights\n",
    "weights = np.array([[0.1],[0.2]])\n",
    "\n",
    "#bias\n",
    "bias = 0.3"
   ]
  },
  {
   "cell_type": "code",
   "execution_count": 204,
   "id": "7d7585ad-35dc-4418-b669-6bae15273b19",
   "metadata": {},
   "outputs": [
    {
     "name": "stdout",
     "output_type": "stream",
     "text": [
      "[[-0.40698363]\n",
      " [15.03737134]]\n",
      "[-7.23225376]\n"
     ]
    }
   ],
   "source": [
    "#treino da rede\n",
    "for epoch in range(100000):\n",
    "    input_arr = input_values\n",
    "    \n",
    "    weighted_sum = np.dot(input_arr, weights) + bias\n",
    "    first_output = sigmoid_func(weighted_sum)\n",
    "    \n",
    "    #mean square error\n",
    "    error = first_output - output\n",
    "    total_error = np.square(np.subtract(first_output,output)).mean()\n",
    "    \n",
    "    #calculo da derivativa para incorporar no gradient descent\n",
    "    first_der = error\n",
    "    second_der = der(first_output)\n",
    "    derivative = first_der * second_der\n",
    "    \n",
    "    t_input = input_values.T\n",
    "    final_derivative = np.dot(t_input,derivative)\n",
    "    \n",
    "    #update weights\n",
    "    weights = weights - 0.05 * final_derivative\n",
    "    #print(derivative)\n",
    "    \n",
    "    #update bias\n",
    "    for i in derivative:\n",
    "        bias = bias - 0.05 * i\n",
    "\n",
    "print(weights)\n",
    "print(bias)"
   ]
  },
  {
   "cell_type": "code",
   "execution_count": 209,
   "id": "f170f30a-e958-4bdd-b87e-358f3281f82c",
   "metadata": {},
   "outputs": [
    {
     "name": "stdout",
     "output_type": "stream",
     "text": [
      "[0.99959252]\n",
      "1\n"
     ]
    }
   ],
   "source": [
    "#previsões\n",
    "pred = np.array([0,1])\n",
    "#no input e output setado para treinar a rede, o input [0,1] deve resultar em 1\n",
    "\n",
    "result = np.dot(pred, weights) + bias\n",
    "\n",
    "func_result = sigmoid_func(result)\n",
    "print(func_result)\n",
    "#o resultado foi muito proximo de 1\n",
    "\n",
    "if func_result > 0.5:\n",
    "    print(1)\n",
    "else:\n",
    "    print(0)"
   ]
  },
  {
   "cell_type": "markdown",
   "id": "acbccebc-2a07-414a-9296-7df41a7ce6e1",
   "metadata": {},
   "source": [
    "## graficos das funções de ativação"
   ]
  },
  {
   "cell_type": "code",
   "execution_count": 196,
   "id": "a1973c8d-4ebf-44a1-bd1a-93d9c88138fe",
   "metadata": {},
   "outputs": [
    {
     "data": {
      "text/plain": [
       "<matplotlib.legend.Legend at 0x242461f8760>"
      ]
     },
     "execution_count": 196,
     "metadata": {},
     "output_type": "execute_result"
    },
    {
     "data": {
      "image/png": "[encoded data removed]",
      "text/plain": [
       "<Figure size 648x360 with 1 Axes>"
      ]
     },
     "metadata": {},
     "output_type": "display_data"
    }
   ],
   "source": [
    "array = pd.Series(np.arange(-8,8,0.2))\n",
    "\n",
    "fig, ax = plt.subplots(figsize=(9, 5))\n",
    "ax.spines['right'].set_color('none')\n",
    "ax.spines['top'].set_color('none')\n",
    "ax.xaxis.set_ticks_position('bottom')\n",
    "ax.yaxis.set_ticks_position('left')\n",
    "\n",
    "ax.plot(array, sigmoid_func(array), color=\"#307EC7\", linewidth=3, label=\"sigmoide\")\n",
    "ax.plot(array, der(array), color=\"#9621E2\", linewidth=3, label=\"derivativa da sigmoide\")\n",
    "\n",
    "ax.legend(loc=\"upper right\", frameon=False)"
   ]
  },
  {
   "cell_type": "code",
   "execution_count": 200,
   "id": "04d86c6e-3eb8-455b-a689-d3b334916eca",
   "metadata": {},
   "outputs": [
    {
     "data": {
      "text/plain": [
       "<matplotlib.legend.Legend at 0x24246aa2920>"
      ]
     },
     "execution_count": 200,
     "metadata": {},
     "output_type": "execute_result"
    },
    {
     "data": {
      "image/png": "[encoded data removed]",
      "text/plain": [
       "<Figure size 648x360 with 1 Axes>"
      ]
     },
     "metadata": {},
     "output_type": "display_data"
    }
   ],
   "source": [
    "array = pd.Series(np.arange(-8,8,0.2))\n",
    "\n",
    "fig, ax = plt.subplots(figsize=(9, 5))\n",
    "\n",
    "ax.spines['right'].set_color('none')\n",
    "ax.spines['top'].set_color('none')\n",
    "ax.xaxis.set_ticks_position('bottom')\n",
    "ax.yaxis.set_ticks_position('left')\n",
    "\n",
    "ax.plot(array, tan_H(array), color=\"#307EC7\", linewidth=3, label=\"tangente hiperbolica\")\n",
    "ax.plot(array, der_tanh(array), color=\"#9621E2\", linewidth=3, label=\"derivativa da tanH\")\n",
    "\n",
    "ax.legend(loc=\"upper right\", frameon=False)"
   ]
  }
 ],
 "metadata": {
  "kernelspec": {
   "display_name": "Python 3 (ipykernel)",
   "language": "python",
   "name": "python3"
  },
  "language_info": {
   "codemirror_mode": {
    "name": "ipython",
    "version": 3
   },
   "file_extension": ".py",
   "mimetype": "text/x-python",
   "name": "python",
   "nbconvert_exporter": "python",
   "pygments_lexer": "ipython3",
   "version": "3.9.13"
  },
  "vscode": {
   "interpreter": {
    "hash": "4de1f88d2d6373a8f471203fdfc2b3b4d6c7d9b83285e74471f7ed54a6bea6de"
   }
  }
 },
 "nbformat": 4,
 "nbformat_minor": 5
}
